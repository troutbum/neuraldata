{
 "metadata": {
  "name": "",
  "signature": "sha256:52cd468d5ba6ea3af63cf48f623620705a9695f7501ad8459ce3f7a793d9f929"
 },
 "nbformat": 3,
 "nbformat_minor": 0,
 "worksheets": []
}