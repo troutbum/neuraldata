{
 "metadata": {
  "name": "",
  "signature": "sha256:f25b078bd5c4ec02d4112aaa035ba48ba775eb369eb4149c4ba9424b4f87ad57"
 },
 "nbformat": 3,
 "nbformat_minor": 0,
 "worksheets": [
  {
   "cells": [
    {
     "cell_type": "markdown",
     "metadata": {},
     "source": [
      "Use to test if nitime package is installed.\n",
      "\n",
      "http://nipy.sourceforge.net/nitime/index.html\n",
      "\n",
      "Nitime is a library for time-series analysis of data from neuroscience experiments.\n",
      "\n",
      "It contains a core of numerical algorithms for time-series analysis both in the time and spectral domains, a set of container objects to represent time-series, and auxiliary objects that expose a high level interface to the numerical machinery and make common analysis tasks easy to express with compact and semantically clear code.\n"
     ]
    },
    {
     "cell_type": "code",
     "collapsed": false,
     "input": [
      "import numpy as np\n",
      "import nitime.algorithms as nt_alg\n",
      "import nitime.utils as nt_ut\n",
      "import matplotlib.pyplot as pp"
     ],
     "language": "python",
     "metadata": {},
     "outputs": [],
     "prompt_number": 1
    },
    {
     "cell_type": "code",
     "collapsed": false,
     "input": [
      "N = 10000\n",
      "fft_pow = int( np.ceil(np.log2(N) + 2) )\n",
      "NW = 4\n",
      "lines = np.sort(np.random.randint(100, 2**(fft_pow-6), size=(3,)))\n",
      "while np.any( np.diff(lines) < 2*NW ):\n",
      "    lines = np.sort(np.random.randint(2**(fft_pow-6), size=(3,)))\n",
      "lines = lines.astype('d')"
     ],
     "language": "python",
     "metadata": {},
     "outputs": [],
     "prompt_number": 2
    },
    {
     "cell_type": "code",
     "collapsed": false,
     "input": [
      "lines += np.random.randn(3) # displace from grid locations"
     ],
     "language": "python",
     "metadata": {},
     "outputs": [],
     "prompt_number": 3
    },
    {
     "cell_type": "code",
     "collapsed": false,
     "input": [
      "lines /= 2.0**(fft_pow-2) # ensure they are well separated\n",
      "\n",
      "phs = np.random.rand(3) * 2 * np.pi\n",
      "amps = np.sqrt(2)/2 + np.abs( np.random.randn(3) )"
     ],
     "language": "python",
     "metadata": {},
     "outputs": [],
     "prompt_number": 4
    },
    {
     "cell_type": "code",
     "collapsed": false,
     "input": [
      "nz_sig = 1\n",
      "\n",
      "tx = np.arange(N)\n",
      "harmonics = amps[:,None]*np.cos( 2*np.pi*tx*lines[:,None] + phs[:,None] )\n",
      "harmonic = np.sum(harmonics, axis=0)\n",
      "nz = np.random.randn(N) * nz_sig\n",
      "sig = harmonic + nz"
     ],
     "language": "python",
     "metadata": {},
     "outputs": [],
     "prompt_number": 5
    },
    {
     "cell_type": "code",
     "collapsed": false,
     "input": [
      "pp.figure()\n",
      "pp.subplot(211)\n",
      "pp.plot(harmonics.T)\n",
      "pp.xlim(*(np.array([0.2, 0.3])*N).astype('i'))\n",
      "pp.title('Sinusoid components')\n",
      "pp.subplot(212)\n",
      "pp.plot(harmonic, color='k', linewidth=3)\n",
      "pp.plot(sig, color=(.6, .6, .6), linewidth=2, linestyle='--')\n",
      "#pp.xlim(2000, 3000)\n",
      "pp.xlim(*(np.array([0.2, 0.3])*N).astype('i'))\n",
      "pp.title('Signal in noise')\n",
      "pp.gcf().tight_layout()"
     ],
     "language": "python",
     "metadata": {},
     "outputs": [
      {
       "output_type": "stream",
       "stream": "stderr",
       "text": [
        "/Users/Troutbum/anaconda/lib/python2.7/site-packages/matplotlib/tight_layout.py:225: UserWarning: tight_layout : falling back to Agg renderer\n",
        "  warnings.warn(\"tight_layout : falling back to Agg renderer\")\n"
       ]
      }
     ],
     "prompt_number": 6
    },
    {
     "cell_type": "code",
     "collapsed": false,
     "input": [
      "pp.show()"
     ],
     "language": "python",
     "metadata": {},
     "outputs": []
    },
    {
     "cell_type": "code",
     "collapsed": false,
     "input": [],
     "language": "python",
     "metadata": {},
     "outputs": [],
     "prompt_number": 16
    }
   ],
   "metadata": {}
  }
 ]
}