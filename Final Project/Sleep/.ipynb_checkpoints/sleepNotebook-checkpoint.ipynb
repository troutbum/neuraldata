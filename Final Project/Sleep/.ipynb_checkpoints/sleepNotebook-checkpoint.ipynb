{
 "metadata": {
  "name": "",
  "signature": "sha256:bc9e67bf02b48b2729e53f52ac7679fba2ba6e23ca4a6bf32641a3f02821fb28"
 },
 "nbformat": 3,
 "nbformat_minor": 0,
 "worksheets": [
  {
   "cells": [
    {
     "cell_type": "code",
     "collapsed": false,
     "input": [
      "%matplotlib inline"
     ],
     "language": "python",
     "metadata": {},
     "outputs": [],
     "prompt_number": 1
    },
    {
     "cell_type": "code",
     "collapsed": false,
     "input": [
      "import sleepModule as s\n",
      "import sleepFinalProject as s2\n",
      "import gc\n",
      "import numpy as np\n",
      "import pandas as pd\n",
      "import matplotlib.pylab as plt\n",
      "import matplotlib.pyplot as p\n",
      "import matplotlib.mlab as m"
     ],
     "language": "python",
     "metadata": {},
     "outputs": [],
     "prompt_number": 2
    },
    {
     "cell_type": "code",
     "collapsed": false,
     "input": [
      "# directory location of data files\n",
      "CDIR = '/Users/Troutbum/Development/SleepEEGData/'\n",
      "#CDIR = '/Users/Gene/Development/SleepEEGData/'\n",
      "\n",
      "# labels\n",
      "subject_name = ['1', '2']\n",
      "condition_name = ['Baseline', 'Recovery']          \n",
      "channel_name = ['EEG Ch1', 'EEG Ch2', 'EEG Ch8','EEG Ch9',\n",
      "                'EOG Ch3', 'EOG Ch4',\n",
      "                'EMG Ch5', 'EMG Ch6', 'EMG Ch7'];            \n",
      "stage_name = ['Awake', 'NREM Stage 1', 'NREM Stage 2', 'NREM Stage 3',\n",
      "              'NREM Stage 4', 'REM Sleep', 'Movement Time', 'Unscored']           \n",
      "# shorthands\n",
      "BASELINE = 0\n",
      "BSL = 'Baseline'\n",
      "RECOVERY = 1\n",
      "REC = 'Recovery'\n",
      "SUBJECT1 = 0\n",
      "SUB1 = 'Subject1'\n",
      "SUBJECT2 = 1\n",
      "SUB2 = 'Subject2'"
     ],
     "language": "python",
     "metadata": {},
     "outputs": [],
     "prompt_number": 3
    },
    {
     "cell_type": "code",
     "collapsed": false,
     "input": [
      "# load files, build dataframes and sort by stage\n",
      "data, sdata, stages, srate = s2.load_data()  "
     ],
     "language": "python",
     "metadata": {},
     "outputs": [],
     "prompt_number": 4
    },
    {
     "cell_type": "markdown",
     "metadata": {},
     "source": [
      "My first step was to look at the sleep patterns of the the two subjects.  Their baseline measurements are in black and the recovery observation is in red.  \n",
      "\n",
      "Recovery sleep lasted longer and involved more cycles of REM."
     ]
    },
    {
     "cell_type": "code",
     "collapsed": false,
     "input": [
      "# plot time series of sleep stage states\n",
      "\n",
      "s.plot_stage_vs_time(stages[SUBJECT1][BASELINE], stages[SUBJECT1][RECOVERY], \n",
      "                   stages[SUBJECT2][BASELINE], stages[SUBJECT2][RECOVERY])"
     ],
     "language": "python",
     "metadata": {},
     "outputs": [
      {
       "ename": "AttributeError",
       "evalue": "'module' object has no attribute 'plot_stage_vs_time'",
       "output_type": "pyerr",
       "traceback": [
        "\u001b[0;31m---------------------------------------------------------------------------\u001b[0m\n\u001b[0;31mAttributeError\u001b[0m                            Traceback (most recent call last)",
        "\u001b[0;32m<ipython-input-5-2c80ea93fa97>\u001b[0m in \u001b[0;36m<module>\u001b[0;34m()\u001b[0m\n\u001b[1;32m      1\u001b[0m \u001b[0;31m# plot time series of sleep stage states\u001b[0m\u001b[0;34m\u001b[0m\u001b[0;34m\u001b[0m\u001b[0m\n\u001b[1;32m      2\u001b[0m \u001b[0;34m\u001b[0m\u001b[0m\n\u001b[0;32m----> 3\u001b[0;31m s2.plot_stage_vs_time(stages[SUBJECT1][BASELINE], stages[SUBJECT1][RECOVERY], \n\u001b[0m\u001b[1;32m      4\u001b[0m                    stages[SUBJECT2][BASELINE], stages[SUBJECT2][RECOVERY])\n",
        "\u001b[0;31mAttributeError\u001b[0m: 'module' object has no attribute 'plot_stage_vs_time'"
       ]
      }
     ],
     "prompt_number": 5
    },
    {
     "cell_type": "code",
     "collapsed": false,
     "input": [
      "# Subject1 histogram of sleep stage states\n",
      "\n",
      "s.plot_hist_stages_base_vs_recovery(stages[SUBJECT1][BASELINE], stages[SUBJECT1][RECOVERY], \n",
      "                                     subject_name[SUBJECT1])"
     ],
     "language": "python",
     "metadata": {},
     "outputs": []
    },
    {
     "cell_type": "code",
     "collapsed": false,
     "input": [
      "# Subject2 histogram of sleep stage states\n",
      "\n",
      "s.plot_hist_stages_base_vs_recovery(stages[SUBJECT2][BASELINE], stages[SUBJECT2][RECOVERY],\n",
      "                                  subject_name[SUBJECT2])"
     ],
     "language": "python",
     "metadata": {},
     "outputs": []
    },
    {
     "cell_type": "code",
     "collapsed": false,
     "input": [
      "# plot frequency response of complete datasets \n",
      "s.plot_psds(data[SUBJECT1][BASELINE], srate, SUB1, BSL,\n",
      "             channel_name,'by Channel over All Stages')"
     ],
     "language": "python",
     "metadata": {},
     "outputs": []
    },
    {
     "cell_type": "code",
     "collapsed": false,
     "input": [
      "# plot spectrograms of datasets\n",
      "s.plot_spectrograms(data[SUBJECT1][BASELINE], srate, SUB1, BSL)  "
     ],
     "language": "python",
     "metadata": {},
     "outputs": []
    },
    {
     "cell_type": "code",
     "collapsed": false,
     "input": [
      "# plot spectrograms of datasets\n",
      "s.plot_spectrograms(data[SUBJECT1][BASELINE], srate, SUB1, REC)  "
     ],
     "language": "python",
     "metadata": {},
     "outputs": []
    },
    {
     "cell_type": "code",
     "collapsed": false,
     "input": [
      "# plot spectrograms of datasets\n",
      "s.plot_spectrograms(data[SUBJECT1][BASELINE], srate, SUB2, BSL)"
     ],
     "language": "python",
     "metadata": {},
     "outputs": []
    },
    {
     "cell_type": "code",
     "collapsed": false,
     "input": [
      "# plot spectrograms of datasets\n",
      "s.plot_spectrograms(data[SUBJECT1][BASELINE], srate, SUB2, REC)  "
     ],
     "language": "python",
     "metadata": {},
     "outputs": []
    },
    {
     "cell_type": "code",
     "collapsed": false,
     "input": [
      "# plot one hypnogram (spectrogram and sleep stage)\n",
      "channel = 0\n",
      "s.plot_hypnogram(data[SUBJECT1][BASELINE][channel], channel, stages[SUBJECT1][BASELINE], \n",
      "                  srate, SUB1, BSL)\n",
      "    "
     ],
     "language": "python",
     "metadata": {},
     "outputs": []
    },
    {
     "cell_type": "code",
     "collapsed": false,
     "input": [
      "# plot one hypnogram (spectrogram and sleep stage)\n",
      "s.plot_hypnogram(data[SUBJECT1][RECOVERY][channel], channel, stages[SUBJECT1][RECOVERY], \n",
      "                  srate, SUB1, REC)"
     ],
     "language": "python",
     "metadata": {},
     "outputs": []
    },
    {
     "cell_type": "code",
     "collapsed": false,
     "input": [
      "# plot one hypnogram (spectrogram and sleep stage)\n",
      "s.plot_hypnogram(data[SUBJECT2][BASELINE][channel], channel, stages[SUBJECT2][BASELINE], \n",
      "                  srate, SUB1, BSL)"
     ],
     "language": "python",
     "metadata": {},
     "outputs": []
    },
    {
     "cell_type": "code",
     "collapsed": false,
     "input": [
      "# plot one hypnogram (spectrogram and sleep stage)\n",
      "s.plot_hypnogram(data[SUBJECT2][RECOVERY][channel], channel, stages[SUBJECT2][RECOVERY], \n",
      "                  srate, SUB1, REC)"
     ],
     "language": "python",
     "metadata": {},
     "outputs": []
    },
    {
     "cell_type": "code",
     "collapsed": false,
     "input": [
      "# plot FFT for All Stages, for a Single Channel\n",
      "channel = 0 \n",
      "s.plot_psds(sdata[SUBJECT1][BASELINE][channel], srate, SUB1, BSL,\n",
      "             stage_name, 'by Stage for '+str(channel_name[channel]))"
     ],
     "language": "python",
     "metadata": {},
     "outputs": []
    },
    {
     "cell_type": "code",
     "collapsed": false,
     "input": [
      "# Plot Comparison of Baseline vs Recovery for each observed sleep stage\n",
      "channel = 0\n",
      "for stage in range(0,6):\n",
      "    s.compare_psds2(sdata[SUBJECT2][0][channel][stage], \n",
      "                    sdata[SUBJECT2][1][channel][stage], \n",
      "                    srate, SUB2, BSL, REC, \n",
      "                    channel_name[channel], stage_name[stage])"
     ],
     "language": "python",
     "metadata": {},
     "outputs": []
    },
    {
     "cell_type": "code",
     "collapsed": false,
     "input": [],
     "language": "python",
     "metadata": {},
     "outputs": []
    }
   ],
   "metadata": {}
  }
 ]
}