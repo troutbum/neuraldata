{
 "metadata": {
  "css": [
   ""
  ],
  "name": "",
  "signature": "sha256:d691ca13992c73160817b3aadab63ac5afc1da51ae36eaa8902319df43357084"
 },
 "nbformat": 3,
 "nbformat_minor": 0,
 "worksheets": [
  {
   "cells": [
    {
     "cell_type": "markdown",
     "metadata": {},
     "source": [
      "#Adding Images To Your Plots\n",
      "\n",
      "In this unit, we will see how to add images to our graphs.  This is very useful when creating graphics that correspond to actuall trials in an experiment.\n",
      "\n",
      "By the end of this video, you should be able to:\n",
      "\n",
      "* open an image file\n",
      "\n",
      "* create an image directly using data\n",
      "\n",
      "* place multiple images in a graph\n",
      "\n",
      "* superimpose plot lines and markers on top of the images"
     ]
    },
    {
     "cell_type": "markdown",
     "metadata": {},
     "source": [
      "As usual, we'll set things up first.  The new import modules we need here are the **image** module from matplotlib, the **misc** module from scipy.\n",
      "\n",
      "We'll also use the **urllib2** which makes it easy to grab an image from the Internet."
     ]
    },
    {
     "cell_type": "code",
     "collapsed": false,
     "input": [
      "%matplotlib inline\n",
      "import numpy as np\n",
      "import matplotlib.pyplot as plt\n",
      "import matplotlib.image as mpimg\n",
      "from scipy import misc\n",
      "import urllib2"
     ],
     "language": "python",
     "metadata": {},
     "outputs": [],
     "prompt_number": 2
    },
    {
     "cell_type": "markdown",
     "metadata": {},
     "source": [
      "Let's see the equivalent of the **\"hello, world!\"** program for images:"
     ]
    },
    {
     "cell_type": "code",
     "collapsed": false,
     "input": [],
     "language": "python",
     "metadata": {},
     "outputs": [],
     "prompt_number": 0
    },
    {
     "cell_type": "markdown",
     "metadata": {},
     "source": [
      "Now let's see how to load our own image."
     ]
    },
    {
     "cell_type": "code",
     "collapsed": false,
     "input": [
      "our_logo = \"https://d396qusza40orc.cloudfront.net/neuraldata/images/neuraldata-logo.png\"\n",
      "f=urllib2.urlopen(our_logo)\n",
      "img = plt.imread(f)\n",
      "plt.imshow(img)"
     ],
     "language": "python",
     "metadata": {},
     "outputs": []
    },
    {
     "cell_type": "markdown",
     "metadata": {},
     "source": [
      "If we want just the image without any axes, we can hide these."
     ]
    },
    {
     "cell_type": "code",
     "collapsed": false,
     "input": [
      "our_logo = \"https://d396qusza40orc.cloudfront.net/neuraldata/images/neuraldata-logo.png\"\n",
      "f=urllib2.urlopen(our_logo)\n",
      "img = plt.imread(f)\n",
      "plt.imshow(img)"
     ],
     "language": "python",
     "metadata": {},
     "outputs": []
    },
    {
     "cell_type": "markdown",
     "metadata": {},
     "source": [
      "While we won't focus on image manipulation much here, it's worth noting that the img that is read in using **imread** can be examined and easily manipulated."
     ]
    },
    {
     "cell_type": "code",
     "collapsed": false,
     "input": [],
     "language": "python",
     "metadata": {},
     "outputs": [],
     "prompt_number": 3
    },
    {
     "cell_type": "code",
     "collapsed": false,
     "input": [],
     "language": "python",
     "metadata": {},
     "outputs": [],
     "prompt_number": 4
    },
    {
     "cell_type": "code",
     "collapsed": false,
     "input": [],
     "language": "python",
     "metadata": {},
     "outputs": [],
     "prompt_number": 4
    },
    {
     "cell_type": "code",
     "collapsed": false,
     "input": [
      "red_values = img[:,:,0]\n",
      "plt.set_cmap('gray')\n",
      "plt.imshow(red_values)\n",
      "plt.axis('off')"
     ],
     "language": "python",
     "metadata": {},
     "outputs": []
    },
    {
     "cell_type": "markdown",
     "metadata": {},
     "source": [
      "*** Creating your own image ***"
     ]
    },
    {
     "cell_type": "code",
     "collapsed": false,
     "input": [],
     "language": "python",
     "metadata": {},
     "outputs": []
    },
    {
     "cell_type": "code",
     "collapsed": false,
     "input": [],
     "language": "python",
     "metadata": {},
     "outputs": [],
     "prompt_number": 4
    },
    {
     "cell_type": "markdown",
     "metadata": {},
     "source": [
      "Now how about more than one image in a single plot?"
     ]
    },
    {
     "cell_type": "code",
     "collapsed": false,
     "input": [
      "ax = plt.axes([0,0,1,1])\n",
      "#ax.set_axis_off()\n",
      "ax.set_xlim(-5,5)\n",
      "ax.set_ylim(-5,5)\n",
      "lena = misc.lena()\n",
      "plt.set_cmap('gray')"
     ],
     "language": "python",
     "metadata": {},
     "outputs": []
    },
    {
     "cell_type": "markdown",
     "metadata": {},
     "source": [
      "And finally, how can we superimpose data on top of these images?  I'll also turn the axis off for this version."
     ]
    },
    {
     "cell_type": "code",
     "collapsed": false,
     "input": [
      "ax = plt.axes([0,0,1,1])\n",
      "ax.set_axis_off()\n",
      "ax.set_xlim(-5,5)\n",
      "ax.set_ylim(-5,5)\n",
      "lena = misc.lena()\n",
      "plt.imshow(lena, origin='lower',extent=[-5,-3,5,3]) \n",
      "plt.imshow(lena, origin='lower',extent=[-1,1,1,-1])\n",
      "plt.imshow(lena, origin='lower',extent=[3,5,1,-1])"
     ],
     "language": "python",
     "metadata": {},
     "outputs": []
    }
   ],
   "metadata": {}
  }
 ]
}