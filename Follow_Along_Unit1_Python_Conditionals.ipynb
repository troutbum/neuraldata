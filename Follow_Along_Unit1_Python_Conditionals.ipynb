{
 "metadata": {
  "name": "",
  "signature": "sha256:ef13810df7b74dd54e65726f389bd0583a0e7635d1adcaed829b7a61d3ae6850"
 },
 "nbformat": 3,
 "nbformat_minor": 0,
 "worksheets": [
  {
   "cells": [
    {
     "cell_type": "markdown",
     "metadata": {},
     "source": [
      "#Introduction to Python - Part 4\n",
      "\n",
      "Today we will contiune our introduction to Python by looking at **conditional execution** \n",
      "\n",
      "By the end of this video, you should be able to:\n",
      "\n",
      "* calculate the expected result of logical operators\n",
      "\n",
      "* write your own conditional expressions with proper formatting\n",
      "\n",
      "* predict the expected outcome of conditional expressions\n",
      "\n",
      "* write code to complete a short exercise incorporating conditional expressions"
     ]
    },
    {
     "cell_type": "markdown",
     "metadata": {},
     "source": [
      "Everthing we looked at last time was a **straight-line program.**\n",
      "\n",
      "*What do you think I mean by this?*"
     ]
    },
    {
     "cell_type": "markdown",
     "metadata": {},
     "source": [
      "Let's make things more interesting by incorporating **branching**.\n",
      "The easiest way to branch is with a **conditional**.\n",
      "\n",
      "Conditionals take the form of\n",
      "\n",
      "`if boolean expression:\n",
      "    run some code here\n",
      " else:\n",
      "    run some different code`\n",
      "\n",
      "*Remind me about booleans...*"
     ]
    },
    {
     "cell_type": "markdown",
     "metadata": {},
     "source": [
      "###Let's learn some logical operators\n",
      "\n",
      "* `not` \n",
      "\n",
      "* `and` \n",
      "\n",
      "* `or` "
     ]
    },
    {
     "cell_type": "code",
     "collapsed": false,
     "input": [
      "not(True)"
     ],
     "language": "python",
     "metadata": {},
     "outputs": [
      {
       "metadata": {},
       "output_type": "pyout",
       "prompt_number": 1,
       "text": [
        "False"
       ]
      }
     ],
     "prompt_number": 1
    },
    {
     "cell_type": "code",
     "collapsed": false,
     "input": [
      "x = 4\n",
      "(x < 10) and (x == 4)"
     ],
     "language": "python",
     "metadata": {},
     "outputs": [
      {
       "metadata": {},
       "output_type": "pyout",
       "prompt_number": 2,
       "text": [
        "True"
       ]
      }
     ],
     "prompt_number": 2
    },
    {
     "cell_type": "code",
     "collapsed": false,
     "input": [
      "(x > 10) and (x == 4)"
     ],
     "language": "python",
     "metadata": {},
     "outputs": [
      {
       "metadata": {},
       "output_type": "pyout",
       "prompt_number": 3,
       "text": [
        "False"
       ]
      }
     ],
     "prompt_number": 3
    },
    {
     "cell_type": "code",
     "collapsed": false,
     "input": [
      "(x < 10) or (x != 4)"
     ],
     "language": "python",
     "metadata": {},
     "outputs": [
      {
       "metadata": {},
       "output_type": "pyout",
       "prompt_number": 4,
       "text": [
        "True"
       ]
      }
     ],
     "prompt_number": 4
    },
    {
     "cell_type": "code",
     "collapsed": false,
     "input": [
      "not(x < 10) or (x != 4)"
     ],
     "language": "python",
     "metadata": {},
     "outputs": [
      {
       "metadata": {},
       "output_type": "pyout",
       "prompt_number": 5,
       "text": [
        "False"
       ]
      }
     ],
     "prompt_number": 5
    },
    {
     "cell_type": "markdown",
     "metadata": {},
     "source": [
      "So now we can use these logical expressions to write our conditionals"
     ]
    },
    {
     "cell_type": "code",
     "collapsed": false,
     "input": [
      "x = 3\n",
      "if x > 0:\n",
      "    print \"x is positive\""
     ],
     "language": "python",
     "metadata": {},
     "outputs": [
      {
       "output_type": "stream",
       "stream": "stdout",
       "text": [
        "x is positive\n"
       ]
      }
     ],
     "prompt_number": 6
    },
    {
     "cell_type": "markdown",
     "metadata": {},
     "source": [
      "run again with something less than 3"
     ]
    },
    {
     "cell_type": "code",
     "collapsed": false,
     "input": [
      "x = -5\n",
      "if x > 0:\n",
      "    print \"x is positive\"\n",
      "else:\n",
      "    print \"x is negative\""
     ],
     "language": "python",
     "metadata": {},
     "outputs": [
      {
       "output_type": "stream",
       "stream": "stdout",
       "text": [
        "x is negative\n"
       ]
      }
     ],
     "prompt_number": 7
    },
    {
     "cell_type": "code",
     "collapsed": false,
     "input": [
      "x = 14\n",
      "if (x > 0) and (x <= 20):\n",
      "    print \"x is positive\"\n",
      "    print \"x is not too big\"\n",
      "else:\n",
      "    print \"x is either negative or very big\""
     ],
     "language": "python",
     "metadata": {},
     "outputs": [
      {
       "output_type": "stream",
       "stream": "stdout",
       "text": [
        "x is positive\n",
        "x is not too big\n"
       ]
      }
     ],
     "prompt_number": 8
    },
    {
     "cell_type": "markdown",
     "metadata": {},
     "source": [
      "###Format matters\n",
      "\n",
      "You need the : at the end of your `if` and `else` lines.\n",
      "    \n",
      "You need to indent the the statements that follow the `:` (called the **block**)"
     ]
    },
    {
     "cell_type": "code",
     "collapsed": false,
     "input": [
      "x = 3\n",
      "if x >= 3\n",
      "print \"x is at least as big as 3\"\n",
      "else\n",
      "print \"x is less than 3\"\n",
      "print \"All done!\""
     ],
     "language": "python",
     "metadata": {},
     "outputs": [
      {
       "ename": "SyntaxError",
       "evalue": "invalid syntax (<ipython-input-9-765d39a56584>, line 2)",
       "output_type": "pyerr",
       "traceback": [
        "\u001b[0;36m  File \u001b[0;32m\"<ipython-input-9-765d39a56584>\"\u001b[0;36m, line \u001b[0;32m2\u001b[0m\n\u001b[0;31m    if x >= 3\u001b[0m\n\u001b[0m             ^\u001b[0m\n\u001b[0;31mSyntaxError\u001b[0m\u001b[0;31m:\u001b[0m invalid syntax\n"
       ]
      }
     ],
     "prompt_number": 9
    },
    {
     "cell_type": "code",
     "collapsed": false,
     "input": [
      "x = 3\n",
      "if x >= 3:\n",
      "    print \"x is at least as big as 3\"\n",
      "else:\n",
      "    print \"x is less than 3\"\n",
      "print \"All done!\""
     ],
     "language": "python",
     "metadata": {},
     "outputs": [
      {
       "output_type": "stream",
       "stream": "stdout",
       "text": [
        "x is at least as big as 3\n",
        "All done!\n"
       ]
      }
     ],
     "prompt_number": 12
    },
    {
     "cell_type": "code",
     "collapsed": false,
     "input": [
      "# Note the effect of indentation\n",
      "x = 3\n",
      "if x >= 3:\n",
      "    print \"x is at least as big as 3\"\n",
      "else:\n",
      "    print \"x is less than 3\"\n",
      "    print \"All done!\""
     ],
     "language": "python",
     "metadata": {},
     "outputs": [
      {
       "output_type": "stream",
       "stream": "stdout",
       "text": [
        "x is at least as big as 3\n"
       ]
      }
     ],
     "prompt_number": 13
    },
    {
     "cell_type": "markdown",
     "metadata": {},
     "source": [
      "We can chain conditions:\n",
      "    \n",
      "`if boolean expression:\n",
      "    run some code here\n",
      " elif:\n",
      "    run this code here\n",
      " else:\n",
      "    run some different code`"
     ]
    },
    {
     "cell_type": "code",
     "collapsed": false,
     "input": [
      "x = 4\n",
      "y = 2\n",
      "z = 1\n",
      "\n",
      "if x < y and x < z:\n",
      "    print 'x is the smallest'\n",
      "elif y < z:\n",
      "    print 'y is the smallest'\n",
      "else:\n",
      "    print 'z is the smallest'"
     ],
     "language": "python",
     "metadata": {},
     "outputs": [
      {
       "output_type": "stream",
       "stream": "stdout",
       "text": [
        "z is the smallest\n"
       ]
      }
     ],
     "prompt_number": 16
    },
    {
     "cell_type": "code",
     "collapsed": false,
     "input": [
      "x = 14\n",
      "if (x > 0) and (x <= 20):\n",
      "    print \"x is positive\"\n",
      "    print \"x is not too big\"\n",
      "else:\n",
      "    print \"x is either negative or very big\""
     ],
     "language": "python",
     "metadata": {},
     "outputs": [
      {
       "output_type": "stream",
       "stream": "stdout",
       "text": [
        "x is positive\n",
        "x is not too big\n"
       ]
      }
     ],
     "prompt_number": 17
    },
    {
     "cell_type": "code",
     "collapsed": false,
     "input": [
      "# better version\n",
      "x = 14\n",
      "if 0 < x <= 20:\n",
      "    print \"x is positive\"\n",
      "    print \"x is not too big\"\n",
      "else:\n",
      "    print \"x is either negative or very big\""
     ],
     "language": "python",
     "metadata": {},
     "outputs": [
      {
       "output_type": "stream",
       "stream": "stdout",
       "text": [
        "x is positive\n",
        "x is not too big\n"
       ]
      }
     ],
     "prompt_number": 18
    },
    {
     "cell_type": "markdown",
     "metadata": {},
     "source": [
      "We can nest conditionals"
     ]
    },
    {
     "cell_type": "code",
     "collapsed": false,
     "input": [
      "x = 14\n",
      "if (x > 0):\n",
      "    print \"x is positive\"\n",
      "    if (x <= 20):\n",
      "        print \"x is not too big\"\n",
      "    else:\n",
      "        print \"x is bigger than 20\"\n",
      "else:\n",
      "    print \"x is negative\"\n"
     ],
     "language": "python",
     "metadata": {},
     "outputs": [
      {
       "output_type": "stream",
       "stream": "stdout",
       "text": [
        "x is positive\n",
        "x is not too big\n"
       ]
      }
     ],
     "prompt_number": 20
    },
    {
     "cell_type": "markdown",
     "metadata": {},
     "source": [
      "Now you try.  Starting with the code below, write a program that looks at x, y and z and prints the largest number greater than 20 of the 3.  If none of them are greater than 20, it should print a message telling you.  Try varying x, y and z to make sure it still works."
     ]
    },
    {
     "cell_type": "code",
     "collapsed": false,
     "input": [
      "x = 22\n",
      "y = 22\n",
      "z = 22\n",
      "\n",
      "if (x <= 20) and (y <= 20) and (z <= 20):\n",
      "\n",
      "    print \"no number is greater than 20\" \n",
      "    \n",
      "else:\n",
      "    if x > y and x > z:\n",
      "        print 'x is the largest, x=', x\n",
      "    elif  y > z:\n",
      "        print 'y is the largest, y=', y\n",
      "    else:\n",
      "        print 'z is the largest, z=', z\n",
      "        \n",
      "# need to add code to check the condition where\n",
      "# the variables are equa"
     ],
     "language": "python",
     "metadata": {},
     "outputs": [
      {
       "output_type": "stream",
       "stream": "stdout",
       "text": [
        "z is the largest, z= 22\n"
       ]
      }
     ],
     "prompt_number": 12
    },
    {
     "cell_type": "code",
     "collapsed": false,
     "input": [],
     "language": "python",
     "metadata": {},
     "outputs": []
    }
   ],
   "metadata": {}
  }
 ]
}